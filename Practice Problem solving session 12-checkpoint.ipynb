{
 "cells": [
  {
   "cell_type": "code",
   "execution_count": null,
   "metadata": {},
   "outputs": [],
   "source": [
    "1## Find area and check it is square or not \n"
   ]
  },
  {
   "cell_type": "code",
   "execution_count": null,
   "metadata": {},
   "outputs": [],
   "source": [
    "length = int(input())\n",
    "breadth = int(input())\n",
    "\n",
    "# Write your code here\n",
    "print(length == breadth)\n",
    "print(length*breadth)\n"
   ]
  },
  {
   "cell_type": "code",
   "execution_count": null,
   "metadata": {
    "scrolled": true
   },
   "outputs": [],
   "source": [
    "2#Write a Python program that accepts the radius of a circle from the user and compute the area.\n",
    "\n",
    "radius = int(input())\n",
    "\n",
    "# Write your code here\n",
    "Area_of_circle=3.14*radius*radius\n",
    "\n",
    "print(Area_of_circle)"
   ]
  },
  {
   "cell_type": "code",
   "execution_count": null,
   "metadata": {},
   "outputs": [],
   "source": [
    "3##Write a Python program that accepts an integer (n) and computes the value of n+nn+nnn.\n",
    "\n",
    "n = int(input())\n",
    "\n",
    "# Write your code here\n",
    "sum=n+(n*10+n)+(n*100+n*10+n)\n",
    "print(sum)\n"
   ]
  },
  {
   "cell_type": "code",
   "execution_count": null,
   "metadata": {
    "scrolled": true
   },
   "outputs": [],
   "source": [
    "4 ##A company decided to deduct pf of 12% of salary if year of service is less than or equal to 5 year and 24% employee if his/her year of service is more than 5 years.\n",
    "##Ask the user for their salary and year of service and print the net in-hand salary after pf deduction.\n",
    "\n",
    "salary = int(input())\n",
    "noy = int(input())\n",
    "\n",
    "# Write your code here\n",
    "if noy<=5:\n",
    "\tsalary=salary-((12/100)*salary)\n",
    "else:\n",
    "\tsalary=salary-((24/100)*salary)\n",
    "print(int(salary))\n",
    "\n",
    "\n",
    "\n"
   ]
  },
  {
   "cell_type": "markdown",
   "metadata": {},
   "source": [
    "#### 5. A school has following rules for grading system:\n",
    "\n",
    "   a. Below 40 - F\n",
    "\n",
    "   b. 40 to 50 - C\n",
    "\n",
    "   c. 50 to 60 - C+\n",
    "\n",
    "   d. 60 to 70 - B \n",
    "\n",
    "   e. 70 to 80 - B+\n",
    "\n",
    "   f. 80 to 90- A\n",
    "\n",
    "   g. Above 90 - A+\n",
    "\n",
    "Ask the user to enter marks for their 5 main subjects and print the overall grade (Be careful grades will be case sensitive) for an average of their marks.\n"
   ]
  },
  {
   "cell_type": "code",
   "execution_count": null,
   "metadata": {
    "scrolled": true
   },
   "outputs": [],
   "source": [
    "subject1_mark = int(input())\n",
    "subject2_mark = int(input())\n",
    "subject3_mark = int(input())\n",
    "subject4_mark = int(input())\n",
    "subject5_mark = int(input())\n",
    "\n",
    "# Write your code here\n",
    "average=(subject1_mark+subject2_mark+subject3_mark+subject4_mark+subject5_mark)/5\n",
    "if average<40:\n",
    "\tprint(\"F\")\n",
    "elif 40<=average<50:\n",
    "\tprint(\"C\")\n",
    "elif 50<=average<60:\n",
    "\tprint(\"C+\")\n",
    "elif 60<=average<70:\n",
    "\tprint(\"B\")\n",
    "elif 70<=average<80:\n",
    "\tprint(\"B+\")\n",
    "elif 80<=average<90:\n",
    "\tprint(\"A\")\n",
    "elif 90<=average<=100:\n",
    "\tprint(\"A+\")\n",
    "print(average)"
   ]
  },
  {
   "cell_type": "markdown",
   "metadata": {},
   "source": [
    "#### 7. A student will not be allowed to sit in the exam if his/her attendance is less than 75%. if he/she has medical cause reduce attendance criteria to 60%. Ask the user if he/she has a medical cause or not ( 'Y' or 'N' ) and print accordingly. You were given total no classes and total classes attended by the student."
   ]
  },
  {
   "cell_type": "code",
   "execution_count": null,
   "metadata": {
    "scrolled": true
   },
   "outputs": [],
   "source": [
    "total_classes = int(input())\n",
    "attended_classes = int(input())\n",
    "medical_cause = input()\n",
    "# Write your code here\n",
    "attendance=(attended_classes/total_classes)*100\n",
    "if attendance>=75:\n",
    "\tprint(\"True\")\n",
    "elif medical_cause==\"Y\" and attendance>=60:\n",
    "\tprint(\"True\")\n",
    "elif medical_cause==\"N\" and attendance!=60:\n",
    "\tprint(\"False\")\n",
    "else:\n",
    "\tprint(\"False\")\n",
    "\n"
   ]
  },
  {
   "cell_type": "markdown",
   "metadata": {},
   "source": [
    "#### 6.You will be given an integer it would be year number E.G. 2020 You have to find out is it leap year or not?\n",
    "\n",
    "Rules to define a leap year:\n",
    "\n",
    "If a year is divisible by 4 then it is a leap year but if the year is century year like 2000, 1900, 2100 then it must be divisible by 400."
   ]
  },
  {
   "cell_type": "code",
   "execution_count": null,
   "metadata": {},
   "outputs": [],
   "source": [
    "year = int(input())\n",
    "# Write your code here\n",
    "if (year % 4) == 0:\n",
    "   if (year % 100) == 0:\n",
    "       if (year % 400) == 0:\n",
    "           print(\"True\")\n",
    "       else:\n",
    "           print(\"False\")\n",
    "   else:\n",
    "       print(\"True\")\n",
    "else:\n",
    "   print(\"False\")"
   ]
  },
  {
   "cell_type": "markdown",
   "metadata": {},
   "source": [
    "#### 8.Given the 3 sides of a triangle – x, y and z – determine whether the triangle is equilateral, isosceles or obtuse."
   ]
  },
  {
   "cell_type": "code",
   "execution_count": null,
   "metadata": {},
   "outputs": [],
   "source": [
    "x = int(input())\n",
    "y = int(input())\n",
    "z = int(input())\n",
    "# Write your code here\n",
    "if x==y==z:\n",
    "\tprint(\"equilateral\")\n",
    "elif x==y or y==z or x==z:\n",
    "\tprint(\"isosceles\")\n",
    "else:\n",
    "\tprint(\"obtuse\")\n"
   ]
  },
  {
   "cell_type": "markdown",
   "metadata": {},
   "source": [
    "#### 9. A shop will give a discount of 10% max up to 200rs if the cost of purchased items is more than 999rs.\n",
    "\n",
    "Ask the user for quantity of items and consider price of each item is 150rs. Judge and print total cost for the user."
   ]
  },
  {
   "cell_type": "code",
   "execution_count": null,
   "metadata": {},
   "outputs": [],
   "source": [
    "items = int(input())\n",
    "# Write your code here\n",
    "total_cost=items*150\n",
    "if total_cost>=999:\n",
    "\tdiscount=total_cost*10/100\n",
    "\tif discount>=200:\n",
    "\t\tdiscount=200\n",
    "\tfinal_cost=total_cost-discount\n",
    "else:\n",
    "\tfinal_cost=total_cost\n",
    "print(int(final_cost),\"Total payable amount\")\n",
    "\n"
   ]
  },
  {
   "cell_type": "code",
   "execution_count": null,
   "metadata": {
    "scrolled": true
   },
   "outputs": [],
   "source": [
    "input_seq = input()\n",
    "# Write your code here\n",
    "l=[['a','b','c'],['d','e','f'],['g','h','i'],['j','k','l'],['m','n','o'],['p','q','r','s'],['t','u','v'],['w','x','y','z']]\n",
    "count=0\n",
    "list1=[]\n",
    "a=str(input_seq)\n",
    "str2=\"\"\n",
    "for i in range (len(a)+1):\n",
    "\tif a[i]==a[i+1]:\n",
    "\t\tcount+=1\n",
    "\t\tcontinue\n",
    "\telse:\n",
    "\t\tk=int(a)-2\n",
    "\t\tlist1.append(l[k])\n",
    "\t\tstr3=list1[count]\n",
    "\t\tstr2=str2+str3\n",
    "\t\tcount=0\n",
    "print(str2)"
   ]
  },
  {
   "cell_type": "code",
   "execution_count": null,
   "metadata": {},
   "outputs": [],
   "source": [
    "n = int(input())\n",
    "# Write your code here\n",
    "d={}\n",
    "seq_of_travel={}\n",
    "for i in range(1,n+1):\n",
    "\td[str(input())]=str(input)\n",
    "ky=d.keys()\n",
    "value=d.values()\n",
    "print(ky)\n",
    "print(value)"
   ]
  },
  {
   "cell_type": "code",
   "execution_count": null,
   "metadata": {},
   "outputs": [],
   "source": [
    "d = {\"python\":3,\"django\":2,\"java\":8,\"roll_no\":[10,20,30,40],3:\"PYTHON2\"}\n",
    "\n",
    "# d = {key1:value1,key2:value2...}\n",
    "\n",
    "d.keys()\n",
    "print(d.sort())\n",
    "print(d.values())\n",
    "print(d.items())"
   ]
  },
  {
   "cell_type": "markdown",
   "metadata": {},
   "source": [
    "You will have number or elements and next n lines containing list elements. You have to create list from that given string. Write a program to count the number of strings where the string length is 2 or more and the first and last character are same from a given list of strings.\n"
   ]
  },
  {
   "cell_type": "code",
   "execution_count": null,
   "metadata": {},
   "outputs": [],
   "source": [
    "n = int(input())\n",
    "# Write your code here\n",
    "count=0\n",
    "l=[]\n",
    "for i in range(1,n+1):\n",
    "\tl.append(input())\n",
    "for char in l:\n",
    "\tif char[0]==char[len(char)-1]:\n",
    "\t\tcount=count+1\n",
    "\t\t\n",
    "print(count)"
   ]
  },
  {
   "cell_type": "markdown",
   "metadata": {},
   "source": [
    "#### You will have number or elements and next n lines containing list elements. You have to create list from that given string."
   ]
  },
  {
   "cell_type": "code",
   "execution_count": null,
   "metadata": {},
   "outputs": [],
   "source": [
    "n = int(input())\n",
    "# Write your code here\n",
    "l=[]\n",
    "for i in range(1,n+1):\n",
    "\tl.append(input())\t\t\n",
    "print(l)"
   ]
  },
  {
   "cell_type": "markdown",
   "metadata": {},
   "source": [
    "#### You will be given a total number of element initially and in next line containing tuple's elements. so first creat a tuple from the given string. Then you have to add a given element at given index value"
   ]
  },
  {
   "cell_type": "code",
   "execution_count": null,
   "metadata": {},
   "outputs": [],
   "source": [
    "n = int(input())\n",
    "# Write your code here\n",
    "tuplex=()\n",
    "listx=list(tuplex)\n",
    "for i in range (1,n+1):\n",
    "\tlistx.append(input())\n",
    "tuplex=tuple(listx)\n",
    "k=input()\n",
    "t=k.split(\" \")\n",
    "i=int(t[0])\n",
    "v=t[1]\n",
    "tuplex = tuplex[:i] + (v,)+tuplex[i:n+1]\n",
    "print(tuplex)\n"
   ]
  },
  {
   "cell_type": "markdown",
   "metadata": {},
   "source": [
    "#### You will be given a string having space seprated elements you have to make a list from that given string. then remove duplicates elements and print the new list."
   ]
  },
  {
   "cell_type": "code",
   "execution_count": null,
   "metadata": {},
   "outputs": [],
   "source": [
    "element = input()\n",
    "# Write your code here\n",
    "list1=element.split(\" \")\n",
    "list2=[]\n",
    "for i in list1:\n",
    "\tif i not in list2:\n",
    "\t\tlist2.append(i)\n",
    "print(list2)"
   ]
  },
  {
   "cell_type": "markdown",
   "metadata": {},
   "source": [
    "#### You will be given to list main_list and sub_list. You have to check sublist presents in main list or not? "
   ]
  },
  {
   "cell_type": "code",
   "execution_count": null,
   "metadata": {},
   "outputs": [],
   "source": [
    "main_list, sub_list = input().split() , input().split()\n",
    "# Write your code here\n",
    "flag = 0\n",
    "if(all(x in main_list for x in sub_list)): \n",
    "    flag = 1\n",
    "      \n",
    "# printing result \n",
    "if (flag) : \n",
    "    print (\"True\") \n",
    "else : \n",
    "    print (\"False\") \n"
   ]
  },
  {
   "cell_type": "code",
   "execution_count": null,
   "metadata": {},
   "outputs": [],
   "source": [
    "dct={}\n",
    "dct[\"1\"]=(1,2)\n",
    "dct[\"2\"]=(2,1)\n",
    "for x in dct.keys():\n",
    "    print(dct[x][1],end=\"\")"
   ]
  },
  {
   "cell_type": "markdown",
   "metadata": {},
   "source": [
    "nums=[1,2,3]"
   ]
  },
  {
   "cell_type": "code",
   "execution_count": null,
   "metadata": {},
   "outputs": [],
   "source": [
    "nums=[1,2,3]\n",
    "val=nums\n",
    "del val[:]\n",
    "print(val)"
   ]
  },
  {
   "cell_type": "code",
   "execution_count": null,
   "metadata": {},
   "outputs": [],
   "source": [
    "tup=(1,2,3,4)\n",
    "tup=tup[-2:-1]\n",
    "tup=tup[-1]\n",
    "print(tup)"
   ]
  },
  {
   "cell_type": "code",
   "execution_count": null,
   "metadata": {},
   "outputs": [],
   "source": [
    "lst=[i for i in range(-1,-2)]\n",
    "print(lst)"
   ]
  },
  {
   "cell_type": "code",
   "execution_count": null,
   "metadata": {},
   "outputs": [],
   "source": [
    "def func(into=2,out=3):\n",
    "    return into*out\n",
    "print(func(out=2))"
   ]
  },
  {
   "cell_type": "markdown",
   "metadata": {},
   "source": [
    "#### "
   ]
  },
  {
   "cell_type": "code",
   "execution_count": null,
   "metadata": {},
   "outputs": [],
   "source": [
    "i=0\n",
    "while i<i+2:\n",
    "    i+=1\n",
    "    print(\"*\")\n",
    "else:\n",
    "    print(\"*\")"
   ]
  },
  {
   "cell_type": "code",
   "execution_count": 2,
   "metadata": {},
   "outputs": [
    {
     "ename": "SyntaxError",
     "evalue": "positional argument follows keyword argument (<ipython-input-2-4baed5d57253>, line 3)",
     "output_type": "error",
     "traceback": [
      "\u001b[1;36m  File \u001b[1;32m\"<ipython-input-2-4baed5d57253>\"\u001b[1;36m, line \u001b[1;32m3\u001b[0m\n\u001b[1;33m    print(func(b=2,2))\u001b[0m\n\u001b[1;37m                  ^\u001b[0m\n\u001b[1;31mSyntaxError\u001b[0m\u001b[1;31m:\u001b[0m positional argument follows keyword argument\n"
     ]
    }
   ],
   "source": [
    "def func(a,b):\n",
    "    return b*a\n",
    "print(func(b=2,2))"
   ]
  },
  {
   "cell_type": "code",
   "execution_count": 3,
   "metadata": {},
   "outputs": [
    {
     "ename": "AttributeError",
     "evalue": "'dict' object has no attribute 'vals'",
     "output_type": "error",
     "traceback": [
      "\u001b[1;31m---------------------------------------------------------------------------\u001b[0m",
      "\u001b[1;31mAttributeError\u001b[0m                            Traceback (most recent call last)",
      "\u001b[1;32m<ipython-input-3-bbfa0bb9eeaf>\u001b[0m in \u001b[0;36m<module>\u001b[1;34m\u001b[0m\n\u001b[0;32m      1\u001b[0m \u001b[0mdd\u001b[0m\u001b[1;33m=\u001b[0m\u001b[1;33m{\u001b[0m\u001b[1;34m\"1\"\u001b[0m\u001b[1;33m:\u001b[0m\u001b[1;34m\"0\"\u001b[0m\u001b[1;33m,\u001b[0m\u001b[1;34m\"0\"\u001b[0m\u001b[1;33m:\u001b[0m\u001b[1;34m\"1\"\u001b[0m\u001b[1;33m}\u001b[0m\u001b[1;33m\u001b[0m\u001b[1;33m\u001b[0m\u001b[0m\n\u001b[1;32m----> 2\u001b[1;33m \u001b[1;32mfor\u001b[0m \u001b[0mx\u001b[0m \u001b[1;32min\u001b[0m \u001b[0mdd\u001b[0m\u001b[1;33m.\u001b[0m\u001b[0mvals\u001b[0m\u001b[1;33m(\u001b[0m\u001b[1;33m)\u001b[0m\u001b[1;33m:\u001b[0m\u001b[1;33m\u001b[0m\u001b[1;33m\u001b[0m\u001b[0m\n\u001b[0m\u001b[0;32m      3\u001b[0m     \u001b[0mprint\u001b[0m\u001b[1;33m(\u001b[0m\u001b[0mx\u001b[0m\u001b[1;33m,\u001b[0m\u001b[0mend\u001b[0m\u001b[1;33m=\u001b[0m\u001b[1;34m\"\"\u001b[0m\u001b[1;33m)\u001b[0m\u001b[1;33m\u001b[0m\u001b[1;33m\u001b[0m\u001b[0m\n\u001b[0;32m      4\u001b[0m \u001b[1;33m\u001b[0m\u001b[0m\n",
      "\u001b[1;31mAttributeError\u001b[0m: 'dict' object has no attribute 'vals'"
     ]
    }
   ],
   "source": [
    "dd={\"1\":\"0\",\"0\":\"1\"}\n",
    "for x in dd.vals():\n",
    "    print(x,end=\"\")\n",
    "    "
   ]
  },
  {
   "cell_type": "code",
   "execution_count": 4,
   "metadata": {},
   "outputs": [
    {
     "name": "stdout",
     "output_type": "stream",
     "text": [
      "0 1\n"
     ]
    }
   ],
   "source": [
    "a=1\n",
    "b=0\n",
    "a=a^b\n",
    "b=a^b\n",
    "a=a^b\n",
    "print(a,b)"
   ]
  },
  {
   "cell_type": "code",
   "execution_count": 6,
   "metadata": {},
   "outputs": [
    {
     "name": "stdout",
     "output_type": "stream",
     "text": [
      "2\n"
     ]
    }
   ],
   "source": [
    "def func2(x):\n",
    "    if x%2==0:\n",
    "        return 1\n",
    "    else:\n",
    "        return 2\n",
    "print(func2(func2(2)))"
   ]
  },
  {
   "cell_type": "code",
   "execution_count": 7,
   "metadata": {},
   "outputs": [
    {
     "name": "stdout",
     "output_type": "stream",
     "text": [
      "[0, 1, 4, 9]\n"
     ]
    }
   ],
   "source": [
    "lst=[x*x for x in range(5)]\n",
    "def func(lst):\n",
    "    del lst[lst[2]]\n",
    "    return lst\n",
    "print(func(lst))"
   ]
  },
  {
   "cell_type": "code",
   "execution_count": 8,
   "metadata": {},
   "outputs": [
    {
     "name": "stdout",
     "output_type": "stream",
     "text": [
      "#\n",
      "#\n",
      "#\n"
     ]
    }
   ],
   "source": [
    "l=[[x for x in range(3)] for y in range(3)]\n",
    "for r in range(3):\n",
    "    for c in range(3):\n",
    "        if l[r][c]%2!=0:\n",
    "            print(\"#\")"
   ]
  },
  {
   "cell_type": "code",
   "execution_count": 11,
   "metadata": {},
   "outputs": [
    {
     "name": "stdout",
     "output_type": "stream",
     "text": [
      "['ad', 'ae', 'af', 'bd', 'be', 'bf', 'cd', 'ce', 'cf']\n",
      "['h', 'e', 'l', 'l', 'o']\n"
     ]
    },
    {
     "data": {
      "text/plain": [
       "[1.0, 0.5, 0.3333333333333333]"
      ]
     },
     "execution_count": 11,
     "metadata": {},
     "output_type": "execute_result"
    }
   ],
   "source": [
    "\n",
    "print([i+j for i in \"abc\" for j in \"def\"])\n",
    "print([i.lower() for i in \"HELLO\"])\n",
    "list(map(lambda x: x**-1, [1, 2, 3]))"
   ]
  },
  {
   "cell_type": "code",
   "execution_count": 14,
   "metadata": {},
   "outputs": [
    {
     "name": "stdout",
     "output_type": "stream",
     "text": [
      "[1, 4, 9, 16, 25, 36, 49, 64, 81, 100]\n"
     ]
    }
   ],
   "source": [
    "# lambda function to calculate square\n",
    "squares =lambda x: x**2 \n",
    "# natural numbers list\n",
    "nums=[1,2,3,4,5,6,7,8,9,10]\n",
    "# empty list\n",
    "square_nums=[]\n",
    "# loop through every element in list\n",
    "for i in nums:\n",
    "    square_nums=map(squares,nums)\n",
    "# display new list\n",
    "print(list(square_nums))\n"
   ]
  },
  {
   "cell_type": "code",
   "execution_count": 13,
   "metadata": {},
   "outputs": [
    {
     "name": "stdout",
     "output_type": "stream",
     "text": [
      "[1, 4, 9, 16, 25]\n"
     ]
    }
   ],
   "source": [
    "numbers = [1, 2, 3, 4, 5]\n",
    "\n",
    "squaring_iterator = map(lambda n: n ** 2, numbers)\n",
    "print(list(squaring_iterator))"
   ]
  },
  {
   "cell_type": "code",
   "execution_count": 15,
   "metadata": {},
   "outputs": [
    {
     "name": "stdout",
     "output_type": "stream",
     "text": [
      "<filter object at 0x072C8270>\n"
     ]
    }
   ],
   "source": [
    "# Code starts here\n",
    "\n",
    "# natural numbers from 1 to 20\n",
    "natural_nums=[i for i in range(21)]\n",
    "\n",
    "# lambda function for even numbers\n",
    "is_even=list(map(lambda x:x%2==0 ,natural_nums))\n",
    "\n",
    "# filter() to filter out even elements\n",
    "filtered=filter(is_even,natural_nums)\n",
    "print(filtered)\n",
    "# Code ends here"
   ]
  }
 ],
 "metadata": {
  "kernelspec": {
   "display_name": "Python 3",
   "language": "python",
   "name": "python3"
  },
  "language_info": {
   "codemirror_mode": {
    "name": "ipython",
    "version": 3
   },
   "file_extension": ".py",
   "mimetype": "text/x-python",
   "name": "python",
   "nbconvert_exporter": "python",
   "pygments_lexer": "ipython3",
   "version": "3.7.7"
  }
 },
 "nbformat": 4,
 "nbformat_minor": 4
}
